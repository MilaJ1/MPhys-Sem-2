{
 "cells": [
  {
   "cell_type": "code",
   "execution_count": 76,
   "metadata": {},
   "outputs": [],
   "source": [
    "import numpy as np\n",
    "import matplotlib.pyplot as plt\n",
    "import pandas as pd"
   ]
  },
  {
   "cell_type": "code",
   "execution_count": 77,
   "metadata": {},
   "outputs": [],
   "source": [
    "def get_waiting_time(min_wait_time, anom_diff_exp):\n",
    "    \n",
    "    R = np.random.uniform(0,1)\n",
    "    waiting_time = min_wait_time / (R**(1/anom_diff_exp))\n",
    "    \n",
    "    return waiting_time"
   ]
  },
  {
   "cell_type": "code",
   "execution_count": 78,
   "metadata": {},
   "outputs": [
    {
     "data": {
      "text/plain": [
       "(array([1.10454091e-06, 0.00000000e+00, 0.00000000e+00, 0.00000000e+00,\n",
       "        0.00000000e+00, 0.00000000e+00, 0.00000000e+00, 0.00000000e+00,\n",
       "        0.00000000e+00, 0.00000000e+00, 0.00000000e+00, 0.00000000e+00,\n",
       "        0.00000000e+00, 0.00000000e+00, 0.00000000e+00, 0.00000000e+00,\n",
       "        0.00000000e+00, 0.00000000e+00, 0.00000000e+00, 0.00000000e+00,\n",
       "        0.00000000e+00, 0.00000000e+00, 0.00000000e+00, 0.00000000e+00,\n",
       "        0.00000000e+00, 0.00000000e+00, 0.00000000e+00, 0.00000000e+00,\n",
       "        0.00000000e+00, 1.10564655e-09]),\n",
       " array([1.00115544e+00, 9.04449170e+05, 1.80889734e+06, 2.71334551e+06,\n",
       "        3.61779368e+06, 4.52224185e+06, 5.42669002e+06, 6.33113818e+06,\n",
       "        7.23558635e+06, 8.14003452e+06, 9.04448269e+06, 9.94893086e+06,\n",
       "        1.08533790e+07, 1.17578272e+07, 1.26622754e+07, 1.35667235e+07,\n",
       "        1.44711717e+07, 1.53756199e+07, 1.62800680e+07, 1.71845162e+07,\n",
       "        1.80889644e+07, 1.89934126e+07, 1.98978607e+07, 2.08023089e+07,\n",
       "        2.17067571e+07, 2.26112052e+07, 2.35156534e+07, 2.44201016e+07,\n",
       "        2.53245497e+07, 2.62289979e+07, 2.71334461e+07]),\n",
       " <BarContainer object of 30 artists>)"
      ]
     },
     "execution_count": 78,
     "metadata": {},
     "output_type": "execute_result"
    },
    {
     "data": {
      "image/png": "[encoded data removed]",
      "text/plain": [
       "<Figure size 432x288 with 1 Axes>"
      ]
     },
     "metadata": {
      "needs_background": "light"
     },
     "output_type": "display_data"
    }
   ],
   "source": [
    "# plotting probability distribution of waiting times as a check\n",
    "nsamples = 1000\n",
    "alpha = 0.5  # anomalous diffusion exponent\n",
    "A = 1  # minimum waiting time in ms \n",
    "waiting_times = np.empty((nsamples))\n",
    "for i in range(nsamples):\n",
    "    waiting_times[i] = get_waiting_time(A, alpha)\n",
    "plt.hist(waiting_times, bins=30, density=True)"
   ]
  },
  {
   "cell_type": "code",
   "execution_count": 79,
   "metadata": {},
   "outputs": [
    {
     "data": {
      "text/plain": [
       "(array([0.5775076 , 0.4154002 , 0.25835866, 0.27355623, 0.24822695,\n",
       "        0.16717325, 0.10638298, 0.13677812, 0.1266464 , 0.0810537 ,\n",
       "        0.05065856, 0.04559271, 0.05572442, 0.08611955, 0.06585613,\n",
       "        0.06585613, 0.07092199, 0.05065856, 0.03039514, 0.03039514,\n",
       "        0.04559271, 0.04559271, 0.02026342, 0.03039514, 0.04559271,\n",
       "        0.04559271, 0.04052685, 0.04559271, 0.04559271, 0.02532928]),\n",
       " array([ 1. ,  1.3,  1.6,  1.9,  2.2,  2.5,  2.8,  3.1,  3.4,  3.7,  4. ,\n",
       "         4.3,  4.6,  4.9,  5.2,  5.5,  5.8,  6.1,  6.4,  6.7,  7. ,  7.3,\n",
       "         7.6,  7.9,  8.2,  8.5,  8.8,  9.1,  9.4,  9.7, 10. ]),\n",
       " <BarContainer object of 30 artists>)"
      ]
     },
     "execution_count": 79,
     "metadata": {},
     "output_type": "execute_result"
    },
    {
     "data": {
      "image/png": "[encoded data removed]",
      "text/plain": [
       "<Figure size 432x288 with 1 Axes>"
      ]
     },
     "metadata": {
      "needs_background": "light"
     },
     "output_type": "display_data"
    }
   ],
   "source": [
    "plt.hist(waiting_times, bins=30, range=(A, 10), density=True)"
   ]
  },
  {
   "cell_type": "code",
   "execution_count": 80,
   "metadata": {},
   "outputs": [],
   "source": [
    "def gaussian_step(D, t, ndim=1):\n",
    "    \n",
    "    var = 2*ndim*D*t\n",
    "    dx = np.random.normal(scale=np.sqrt(var))\n",
    "    return dx"
   ]
  },
  {
   "cell_type": "code",
   "execution_count": 81,
   "metadata": {},
   "outputs": [
    {
     "data": {
      "text/plain": [
       "(array([0.00520629, 0.        , 0.00104126, 0.00624755, 0.00833007,\n",
       "        0.01041259, 0.01145385, 0.01561888, 0.02603147, 0.02603147,\n",
       "        0.04269161, 0.06039301, 0.09058951, 0.07809441, 0.09475455,\n",
       "        0.08538322, 0.08642448, 0.08434196, 0.08017692, 0.04373287,\n",
       "        0.03956783, 0.03644406, 0.02915525, 0.02603147, 0.02603147,\n",
       "        0.01041259, 0.00312378, 0.00520629, 0.00416504, 0.00416504]),\n",
       " array([-14.96578901, -14.00541293, -13.04503686, -12.08466078,\n",
       "        -11.1242847 , -10.16390863,  -9.20353255,  -8.24315647,\n",
       "         -7.2827804 ,  -6.32240432,  -5.36202824,  -4.40165217,\n",
       "         -3.44127609,  -2.48090001,  -1.52052394,  -0.56014786,\n",
       "          0.40022822,   1.36060429,   2.32098037,   3.28135645,\n",
       "          4.24173252,   5.2021086 ,   6.16248467,   7.12286075,\n",
       "          8.08323683,   9.0436129 ,  10.00398898,  10.96436506,\n",
       "         11.92474113,  12.88511721,  13.84549329]),\n",
       " <BarContainer object of 30 artists>)"
      ]
     },
     "execution_count": 81,
     "metadata": {},
     "output_type": "execute_result"
    },
    {
     "data": {
      "image/png": "[encoded data removed]",
      "text/plain": [
       "<Figure size 432x288 with 1 Axes>"
      ]
     },
     "metadata": {
      "needs_background": "light"
     },
     "output_type": "display_data"
    }
   ],
   "source": [
    "# plotting probability distribution of step lengths as a check\n",
    "nsamples = 1000\n",
    "D=10\n",
    "t=1\n",
    "step_lengths = np.empty((nsamples))\n",
    "for i in range(nsamples):\n",
    "    step_lengths[i] = gaussian_step(D, t)\n",
    "plt.hist(step_lengths, bins=30, density=True)"
   ]
  },
  {
   "cell_type": "code",
   "execution_count": 103,
   "metadata": {},
   "outputs": [],
   "source": [
    "# CTRW for single particle in 1D\n",
    "def ctrw(x_start, diff_coeff, diff_time, run_time, min_wait_time, anom_diff_exp):\n",
    "    \"\"\"\n",
    "    Be consistent with units\n",
    "    run_time: simulation time \n",
    "    diff_time: diffusion time\n",
    "    min_wait_time: minimum waiting time\n",
    "    \"\"\"\n",
    "    time = 0\n",
    "    x = x_start\n",
    "    times = np.array([time])\n",
    "    xs = np.array([x])\n",
    "    while time < run_time:\n",
    "        waiting_time = get_waiting_time(min_wait_time, anom_diff_exp)\n",
    "        time += waiting_time  # update current time\n",
    "        times = np.append(times, time)\n",
    "        xs = np.append(xs, xs[-1])\n",
    "        x += gaussian_step(diff_coeff, diff_time)  # update current x position\n",
    "        times = np.append(times, time)\n",
    "        xs = np.append(xs, x)\n",
    "    \n",
    "    data = {'t': times, 'x': xs}\n",
    "    df = pd.DataFrame(data)\n",
    "    return df"
   ]
  },
  {
   "cell_type": "code",
   "execution_count": 113,
   "metadata": {},
   "outputs": [],
   "source": [
    "# what units is DaMaRiS diffusion coefficient in?\n",
    "# times in ps:\n",
    "df = ctrw(0, 2.8e11, 1, 1e15, 1e9, 0.5)"
   ]
  },
  {
   "cell_type": "code",
   "execution_count": 114,
   "metadata": {},
   "outputs": [
    {
     "data": {
      "text/html": [
       "<div>\n",
       "<style scoped>\n",
       "    .dataframe tbody tr th:only-of-type {\n",
       "        vertical-align: middle;\n",
       "    }\n",
       "\n",
       "    .dataframe tbody tr th {\n",
       "        vertical-align: top;\n",
       "    }\n",
       "\n",
       "    .dataframe thead th {\n",
       "        text-align: right;\n",
       "    }\n",
       "</style>\n",
       "<table border=\"1\" class=\"dataframe\">\n",
       "  <thead>\n",
       "    <tr style=\"text-align: right;\">\n",
       "      <th></th>\n",
       "      <th>t</th>\n",
       "      <th>x</th>\n",
       "    </tr>\n",
       "  </thead>\n",
       "  <tbody>\n",
       "    <tr>\n",
       "      <th>0</th>\n",
       "      <td>0.000000e+00</td>\n",
       "      <td>0.000000e+00</td>\n",
       "    </tr>\n",
       "    <tr>\n",
       "      <th>1</th>\n",
       "      <td>1.130145e+09</td>\n",
       "      <td>0.000000e+00</td>\n",
       "    </tr>\n",
       "    <tr>\n",
       "      <th>2</th>\n",
       "      <td>1.130145e+09</td>\n",
       "      <td>-9.700997e+04</td>\n",
       "    </tr>\n",
       "    <tr>\n",
       "      <th>3</th>\n",
       "      <td>2.170566e+09</td>\n",
       "      <td>-9.700997e+04</td>\n",
       "    </tr>\n",
       "    <tr>\n",
       "      <th>4</th>\n",
       "      <td>2.170566e+09</td>\n",
       "      <td>-4.002478e+05</td>\n",
       "    </tr>\n",
       "    <tr>\n",
       "      <th>...</th>\n",
       "      <td>...</td>\n",
       "      <td>...</td>\n",
       "    </tr>\n",
       "    <tr>\n",
       "      <th>1268</th>\n",
       "      <td>8.560567e+14</td>\n",
       "      <td>5.247446e+06</td>\n",
       "    </tr>\n",
       "    <tr>\n",
       "      <th>1269</th>\n",
       "      <td>8.561190e+14</td>\n",
       "      <td>5.247446e+06</td>\n",
       "    </tr>\n",
       "    <tr>\n",
       "      <th>1270</th>\n",
       "      <td>8.561190e+14</td>\n",
       "      <td>4.126452e+06</td>\n",
       "    </tr>\n",
       "    <tr>\n",
       "      <th>1271</th>\n",
       "      <td>1.794727e+15</td>\n",
       "      <td>4.126452e+06</td>\n",
       "    </tr>\n",
       "    <tr>\n",
       "      <th>1272</th>\n",
       "      <td>1.794727e+15</td>\n",
       "      <td>4.296959e+06</td>\n",
       "    </tr>\n",
       "  </tbody>\n",
       "</table>\n",
       "<p>1273 rows × 2 columns</p>\n",
       "</div>"
      ],
      "text/plain": [
       "                 t             x\n",
       "0     0.000000e+00  0.000000e+00\n",
       "1     1.130145e+09  0.000000e+00\n",
       "2     1.130145e+09 -9.700997e+04\n",
       "3     2.170566e+09 -9.700997e+04\n",
       "4     2.170566e+09 -4.002478e+05\n",
       "...            ...           ...\n",
       "1268  8.560567e+14  5.247446e+06\n",
       "1269  8.561190e+14  5.247446e+06\n",
       "1270  8.561190e+14  4.126452e+06\n",
       "1271  1.794727e+15  4.126452e+06\n",
       "1272  1.794727e+15  4.296959e+06\n",
       "\n",
       "[1273 rows x 2 columns]"
      ]
     },
     "execution_count": 114,
     "metadata": {},
     "output_type": "execute_result"
    }
   ],
   "source": [
    "df"
   ]
  },
  {
   "cell_type": "code",
   "execution_count": 115,
   "metadata": {},
   "outputs": [
    {
     "data": {
      "text/plain": [
       "[<matplotlib.lines.Line2D at 0x1aa39fbdd88>]"
      ]
     },
     "execution_count": 115,
     "metadata": {},
     "output_type": "execute_result"
    },
    {
     "data": {
      "image/png": "[encoded data removed]",
      "text/plain": [
       "<Figure size 432x288 with 1 Axes>"
      ]
     },
     "metadata": {
      "needs_background": "light"
     },
     "output_type": "display_data"
    }
   ],
   "source": [
    "plt.plot(df['t'], df['x'])"
   ]
  },
  {
   "cell_type": "code",
   "execution_count": null,
   "metadata": {},
   "outputs": [],
   "source": []
  }
 ],
 "metadata": {
  "kernelspec": {
   "display_name": "Python 3",
   "language": "python",
   "name": "python3"
  },
  "language_info": {
   "codemirror_mode": {
    "name": "ipython",
    "version": 3
   },
   "file_extension": ".py",
   "mimetype": "text/x-python",
   "name": "python",
   "nbconvert_exporter": "python",
   "pygments_lexer": "ipython3",
   "version": "3.7.7"
  }
 },
 "nbformat": 4,
 "nbformat_minor": 4
}
