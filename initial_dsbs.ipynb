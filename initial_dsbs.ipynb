{
 "cells": [
  {
   "cell_type": "code",
   "execution_count": 67,
   "metadata": {},
   "outputs": [],
   "source": [
    "import numpy as np\n",
    "import pandas as pd"
   ]
  },
  {
   "cell_type": "code",
   "execution_count": 68,
   "metadata": {},
   "outputs": [],
   "source": [
    "savename = 'Initial_DSBs/Gamma_10MeV_edwards'\n",
    "\n",
    "#dose_arr = [0.5, 1, 1.5, 2, 3, 5]\n",
    "#dose_arr = [1, 2, 3, 4, 5]\n",
    "dose_arr = [0.25, 0.5, 1, 2, 3, 5, 8]\n",
    "run_id_arr = [105, 106, 107, 108, 109, 110, 111]\n",
    "\n",
    "path_arr = np.array([])\n",
    "for rid in run_id_arr:\n",
    "    path_arr = np.append(path_arr, 'initial_dsb_output_files/10_gamma_edwards/PerRepResults{}.out'.format(rid))"
   ]
  },
  {
   "cell_type": "code",
   "execution_count": 69,
   "metadata": {},
   "outputs": [
    {
     "data": {
      "text/plain": [
       "array(['initial_dsb_output_files/10_gamma_edwards/PerRepResults105.out',\n",
       "       'initial_dsb_output_files/10_gamma_edwards/PerRepResults106.out',\n",
       "       'initial_dsb_output_files/10_gamma_edwards/PerRepResults107.out',\n",
       "       'initial_dsb_output_files/10_gamma_edwards/PerRepResults108.out',\n",
       "       'initial_dsb_output_files/10_gamma_edwards/PerRepResults109.out',\n",
       "       'initial_dsb_output_files/10_gamma_edwards/PerRepResults110.out',\n",
       "       'initial_dsb_output_files/10_gamma_edwards/PerRepResults111.out'],\n",
       "      dtype='<U62')"
      ]
     },
     "execution_count": 69,
     "metadata": {},
     "output_type": "execute_result"
    }
   ],
   "source": [
    "path_arr"
   ]
  },
  {
   "cell_type": "code",
   "execution_count": 70,
   "metadata": {},
   "outputs": [],
   "source": [
    "def get_df_of_output(path):\n",
    "    df = pd.read_csv(path, sep='\\t', header=None, skiprows=1)\n",
    "    #df.drop(df.columns[len(df.columns)-1], axis=1, inplace=True)\n",
    "    col_names_df = pd.read_csv(path, sep='|', nrows=0)\n",
    "    df = pd.DataFrame(data=df.values, columns=col_names_df.columns)\n",
    "    return df\n",
    "\n",
    "def get_dsb_df(dose_arr, path_arr):\n",
    "    \n",
    "    mean_dsb_arr = np.array([])\n",
    "    std_dsb_arr = np.array([])\n",
    "    error_arr = np.array([])\n",
    "    \n",
    "    for path in path_arr:\n",
    "        out_df = get_df_of_output(path)\n",
    "        dsbs = np.array(out_df['Initial DSBs '])\n",
    "        mean = np.mean(dsbs)\n",
    "        std = np.std(dsbs)\n",
    "        error = std/np.sqrt(len(dsbs))\n",
    "        mean_dsb_arr = np.append(mean_dsb_arr, mean)\n",
    "        std_dsb_arr = np.append(std_dsb_arr, std)\n",
    "        error_arr = np.append(error_arr, error)\n",
    "    \n",
    "    d = {'Dose (Gy)': dose_arr, 'Mean Initial DSBs': mean_dsb_arr, 'Std Dev': std_dsb_arr, 'Std Error': error_arr}\n",
    "    dsb_df = pd.DataFrame(data=d)\n",
    "    \n",
    "    return dsb_df"
   ]
  },
  {
   "cell_type": "code",
   "execution_count": 71,
   "metadata": {},
   "outputs": [],
   "source": [
    "dsb_df = get_dsb_df(dose_arr, path_arr)\n",
    "dsb_df.to_csv(savename, index=False)"
   ]
  },
  {
   "cell_type": "code",
   "execution_count": null,
   "metadata": {},
   "outputs": [],
   "source": []
  }
 ],
 "metadata": {
  "kernelspec": {
   "display_name": "Python 3",
   "language": "python",
   "name": "python3"
  },
  "language_info": {
   "codemirror_mode": {
    "name": "ipython",
    "version": 3
   },
   "file_extension": ".py",
   "mimetype": "text/x-python",
   "name": "python",
   "nbconvert_exporter": "python",
   "pygments_lexer": "ipython3",
   "version": "3.7.7"
  }
 },
 "nbformat": 4,
 "nbformat_minor": 4
}
