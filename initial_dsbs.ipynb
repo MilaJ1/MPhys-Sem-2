{
 "cells": [
  {
   "cell_type": "code",
   "execution_count": 1,
   "metadata": {},
   "outputs": [],
   "source": [
    "import numpy as np\n",
    "import pandas as pd"
   ]
  },
  {
   "cell_type": "code",
   "execution_count": 5,
   "metadata": {},
   "outputs": [],
   "source": [
    "savename = 'Initial_DSBs_Proton_12MeV'\n",
    "\n",
    "# dose_arr = [0.5, 1, 1.5, 2, 3, 5]\n",
    "# run_id_arr = [5, 10, 15, 20, 30, 50]\n",
    "dose_arr = [0.5, 1, 1.5]\n",
    "run_id_arr = [5, 10, 15]\n",
    "\n",
    "path_arr = np.array([])\n",
    "for rid in run_id_arr:\n",
    "    path_arr = np.append(path_arr, 'initial_dsb_output_files/Proton_12MeV/PerRepResults{}.out'.format(rid))"
   ]
  },
  {
   "cell_type": "code",
   "execution_count": 8,
   "metadata": {},
   "outputs": [
    {
     "data": {
      "text/plain": [
       "array(['initial_dsb_output_files/Proton_12MeV/PerRepResults5.out',\n",
       "       'initial_dsb_output_files/Proton_12MeV/PerRepResults10.out',\n",
       "       'initial_dsb_output_files/Proton_12MeV/PerRepResults15.out'],\n",
       "      dtype='<U57')"
      ]
     },
     "execution_count": 8,
     "metadata": {},
     "output_type": "execute_result"
    }
   ],
   "source": [
    "path_arr"
   ]
  },
  {
   "cell_type": "code",
   "execution_count": 37,
   "metadata": {},
   "outputs": [],
   "source": [
    "def get_df_of_output(path):\n",
    "    df = pd.read_csv(path, sep='\\t', header=None, skiprows=1)\n",
    "    #df.drop(df.columns[len(df.columns)-1], axis=1, inplace=True)\n",
    "    col_names_df = pd.read_csv(path, sep='|', nrows=0)\n",
    "    df = pd.DataFrame(data=df.values, columns=col_names_df.columns)\n",
    "    return df\n",
    "\n",
    "def get_dsb_df(dose_arr, path_arr):\n",
    "    \n",
    "    mean_dsb_arr = np.array([])\n",
    "    std_dsb_arr = np.array([])\n",
    "    \n",
    "    for path in path_arr:\n",
    "        out_df = get_df_of_output(path)\n",
    "        dsbs = np.array(out_df['Initial DSBs '])\n",
    "        mean = np.mean(dsbs)\n",
    "        std = np.std(dsbs)\n",
    "        mean_dsb_arr = np.append(mean_dsb_arr, mean)\n",
    "        std_dsb_arr = np.append(std_dsb_arr, std)\n",
    "    \n",
    "    d = {'Dose (Gy)': dose_arr, 'Mean Initial DSBs': mean_dsb_arr, 'Std Initial DSBs': std_dsb_arr}\n",
    "    dsb_df = pd.DataFrame(data=d)\n",
    "    \n",
    "    return dsb_df"
   ]
  },
  {
   "cell_type": "code",
   "execution_count": 40,
   "metadata": {},
   "outputs": [],
   "source": [
    "dsb_df = get_dsb_df(dose_arr, path_arr)\n",
    "dsb_df.to_csv(savename, index=False)"
   ]
  },
  {
   "cell_type": "code",
   "execution_count": null,
   "metadata": {},
   "outputs": [],
   "source": []
  }
 ],
 "metadata": {
  "kernelspec": {
   "display_name": "Python 3",
   "language": "python",
   "name": "python3"
  },
  "language_info": {
   "codemirror_mode": {
    "name": "ipython",
    "version": 3
   },
   "file_extension": ".py",
   "mimetype": "text/x-python",
   "name": "python",
   "nbconvert_exporter": "python",
   "pygments_lexer": "ipython3",
   "version": "3.7.7"
  }
 },
 "nbformat": 4,
 "nbformat_minor": 4
}
