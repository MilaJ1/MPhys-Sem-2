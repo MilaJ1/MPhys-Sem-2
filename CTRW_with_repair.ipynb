{
 "cells": [
  {
   "cell_type": "code",
   "execution_count": 3,
   "metadata": {},
   "outputs": [],
   "source": [
    "import numpy as np\n",
    "import matplotlib.pyplot as plt\n",
    "import pandas as pd"
   ]
  },
  {
   "cell_type": "code",
   "execution_count": 4,
   "metadata": {},
   "outputs": [],
   "source": [
    "def get_waiting_time(min_wait_time, anom_diff_exp,check=0):\n",
    "    \n",
    "    R = np.random.uniform(0,1)\n",
    "    waiting_time = min_wait_time / (R**(1/anom_diff_exp))\n",
    "    \n",
    "    return waiting_time"
   ]
  },
  {
   "cell_type": "code",
   "execution_count": 6,
   "metadata": {},
   "outputs": [
    {
     "data": {
      "image/png": "[encoded data removed]",
      "text/plain": [
       "<Figure size 432x288 with 1 Axes>"
      ]
     },
     "metadata": {
      "needs_background": "light"
     },
     "output_type": "display_data"
    }
   ],
   "source": [
    "def check_waiting_times(nsamples,alpha,min_waiting_time=1):\n",
    "    # plotting probability distribution of waiting times as a check\n",
    "    waiting_times = np.empty((nsamples))\n",
    "    for i in range(nsamples):\n",
    "        waiting_times[i] = get_waiting_time(min_waiting_time, alpha)\n",
    "    plt.hist(waiting_times, bins=30, range=(1, 10), density=True)\n",
    "    \n",
    "check_waiting_times(1000,0.5)"
   ]
  },
  {
   "cell_type": "code",
   "execution_count": 7,
   "metadata": {},
   "outputs": [],
   "source": [
    "def gaussian_step(D, t, ndim=1):\n",
    "    \n",
    "    var = 2*ndim*D*t\n",
    "    dx = np.random.normal(scale=np.sqrt(var))\n",
    "    return dx"
   ]
  },
  {
   "cell_type": "code",
   "execution_count": 8,
   "metadata": {},
   "outputs": [
    {
     "data": {
      "image/png": "[encoded data removed]",
      "text/plain": [
       "<Figure size 432x288 with 1 Axes>"
      ]
     },
     "metadata": {
      "needs_background": "light"
     },
     "output_type": "display_data"
    }
   ],
   "source": [
    "def check_steps(nsamples,D_coeff,t):\n",
    "    # plotting probability distribution of step lengths as a check\n",
    "\n",
    "    step_lengths = np.empty((nsamples))\n",
    "    for i in range(nsamples):\n",
    "        step_lengths[i] = gaussian_step(D_coeff, t)\n",
    "    plt.hist(step_lengths, bins=30, density=True)\n",
    "    \n",
    "check_steps(1000,10,1)"
   ]
  },
  {
   "cell_type": "code",
   "execution_count": 9,
   "metadata": {},
   "outputs": [],
   "source": [
    "# CTRW for single particle in 1D\n",
    "def ctrw(x_start, diff_coeff, diff_time, run_time, min_wait_time, anom_diff_exp,plot=0):\n",
    "    \"\"\"\n",
    "    Be consistent with units\n",
    "    run_time: simulation time \n",
    "    diff_time: diffusion time\n",
    "    min_wait_time: minimum waiting time\n",
    "    \"\"\"\n",
    "    time = 0\n",
    "    x = x_start\n",
    "    times = np.array([time])\n",
    "    xs = np.array([x])\n",
    "    while time < run_time:\n",
    "        waiting_time = get_waiting_time(min_wait_time, anom_diff_exp)\n",
    "        time += waiting_time  # update current time\n",
    "        times = np.append(times, time)\n",
    "        xs = np.append(xs, xs[-1])\n",
    "        x += gaussian_step(diff_coeff, diff_time)  # update current x position\n",
    "        times = np.append(times, time)\n",
    "        xs = np.append(xs, x)\n",
    "    \n",
    "    times = times[:-1]\n",
    "    xs = xs[:-1]\n",
    "    \n",
    "    times = np.append(times, run_time)\n",
    "    xs = np.append(xs, xs[-1])\n",
    "    \n",
    "    data = {'t': times, 'x': xs}\n",
    "    df = pd.DataFrame(data)\n",
    "    if plot==1:\n",
    "        plt.plot(df['t'], df['x'])\n",
    "    return df"
   ]
  },
  {
   "cell_type": "code",
   "execution_count": 10,
   "metadata": {},
   "outputs": [
    {
     "data": {
      "image/png": "[encoded data removed]",
      "text/plain": [
       "<Figure size 432x288 with 1 Axes>"
      ]
     },
     "metadata": {
      "needs_background": "light"
     },
     "output_type": "display_data"
    }
   ],
   "source": [
    "# what units is DaMaRiS diffusion coefficient in?\n",
    "# times in ps:\n",
    "df = ctrw(0, 2.8e11, 1, 1e15, 1e9, 0.5,plot=1)"
   ]
  },
  {
   "cell_type": "code",
   "execution_count": 11,
   "metadata": {},
   "outputs": [],
   "source": [
    "def ctrw_3d(initial_position, diff_coeff, diff_time, run_time, min_wait_time, anom_diff_exp,plot=0):\n",
    "    \"\"\"\n",
    "    \"\"\"\n",
    "    time = 0\n",
    "    x, y, z = initial_position\n",
    "    times = np.array([time])\n",
    "    xs = np.array([x])\n",
    "    ys = np.array([y])\n",
    "    zs = np.array([z])\n",
    "    \n",
    "    while time < run_time:\n",
    "        waiting_time = get_waiting_time(min_wait_time, anom_diff_exp)\n",
    "        time += waiting_time  # update current time\n",
    "        times = np.append(times, time)\n",
    "        xs = np.append(xs, xs[-1])\n",
    "        ys = np.append(ys, ys[-1])\n",
    "        zs = np.append(zs, zs[-1])\n",
    "        x += gaussian_step(diff_coeff, diff_time)  # update current x position\n",
    "        y += gaussian_step(diff_coeff, diff_time)  # update current y position\n",
    "        z += gaussian_step(diff_coeff, diff_time)  # update current z position\n",
    "        times = np.append(times, time)\n",
    "        xs = np.append(xs, x)\n",
    "        ys = np.append(ys, y)\n",
    "        zs = np.append(zs, z)\n",
    "    \n",
    "    data = {'t': times, 'x': xs, 'y': ys, 'z': zs}\n",
    "    df = pd.DataFrame(data)\n",
    "                      \n",
    "    if plot ==1:              \n",
    "        %matplotlib notebook\n",
    "        fig = plt.figure()\n",
    "        ax = plt.axes(projection ='3d')\n",
    "        ax.plot3D(df_3d['x'], df_3d['y'], df_3d['z'])\n",
    "    return df"
   ]
  },
  {
   "cell_type": "code",
   "execution_count": 12,
   "metadata": {},
   "outputs": [],
   "source": [
    "df_3d = ctrw_3d((0,0,0), 2.8e11, 1, 1e15, 1e9, 0.5)"
   ]
  },
  {
   "cell_type": "code",
   "execution_count": 137,
   "metadata": {},
   "outputs": [],
   "source": [
    "def gauss_step_3d(xyz_array,diff_coeff, diff_time):\n",
    "    \n",
    "    new_coords = np.zeros(3)\n",
    "    \n",
    "    if len(xyz_array.flatten()) > 3:\n",
    "        xyz_array_row = xyz_array[-1]\n",
    "    else:\n",
    "        xyz_array_row = xyz_array\n",
    "\n",
    "    for i,x_i in enumerate(xyz_array_row):\n",
    "        \n",
    "        new_coords[i] = x_i + gaussian_step(diff_coeff,diff_time)\n",
    "        \n",
    "    xyz_array = np.vstack((xyz_array,new_coords))\n",
    "    return xyz_array\n",
    "\n",
    "def get_distance_3d(xyz_array1,xyz_array2):\n",
    "    #function to get distance between two sets of coordinates\n",
    "    \n",
    "    distance = 0\n",
    "    \n",
    "    for i,x_i in enumerate(xyz_array1):\n",
    "        \n",
    "        distance += (x_i - (xyz_array2[i]))**2\n",
    "        \n",
    "    return np.sqrt(distance)\n",
    "\n",
    "def interaction_process(p):\n",
    "    #simple call to uniform function if within distance\n",
    "    #could be altered to consider probability based on distance\n",
    "    repair = 0 \n",
    "    q = np.random.uniform(0,1)\n",
    "    if q > p:\n",
    "        repair = 1\n",
    "    return repair\n",
    "\n",
    "def get_halfway(xyz_array1,xyz_array2):\n",
    "    \n",
    "    halfway_coords = np.empty(3)\n",
    "    \n",
    "    for i,x_i in enumerate(xyz_array1):\n",
    "        \n",
    "        halfway_coords[i] = (x_i + xyz_array2[i])/2\n",
    "        \n",
    "    return halfway_coords\n"
   ]
  },
  {
   "cell_type": "code",
   "execution_count": 138,
   "metadata": {},
   "outputs": [],
   "source": [
    "def ctrw_3d_interaction(initial_pos,diff_coeff,diff_time,run_time,min_wait_time,anom_diff_exp,\n",
    "                        int_length,interaction_p=0.5,plot=0):\n",
    "    \"\"\"\n",
    "    \"\"\"\n",
    "    repair = 0 \n",
    "    time1 = 0\n",
    "    time2 = 0 \n",
    "    \n",
    "    x1, y1, z1 = initial_pos[0]\n",
    "    x2, y2, z2 = initial_pos[1]\n",
    "    \n",
    "    times1 = np.array([time1])\n",
    "    times2 = np.array([time2])\n",
    "    \n",
    "    coords1 = np.array([x1, y1, z1])\n",
    "    coords2 = np.array([x2, y2, z2])\n",
    "    \n",
    "    interaction_coords = np.array([0,0,0,0,0,0])\n",
    "    interaction_times = np.array([0,0])\n",
    "    interaction_count = 0\n",
    "    int_count_arr = np.array(interaction_count)\n",
    "    repair_arr = np.array([repair])\n",
    "\n",
    "    while (time1 < run_time or time2 < run_time) and repair ==0:\n",
    "        waiting_time1 = get_waiting_time(min_wait_time, anom_diff_exp)\n",
    "        waiting_time2 = get_waiting_time(min_wait_time, anom_diff_exp)\n",
    "        \n",
    "        time1 += waiting_time1  # update current time\n",
    "        times1 = np.append(times1, time1)\n",
    "        \n",
    "        time2 += waiting_time2  # update current time\n",
    "        times2 = np.append(times2, time2)\n",
    "\n",
    "        coords1 = gauss_step_3d(coords1,diff_coeff, diff_time)\n",
    "        coords2 = gauss_step_3d(coords2,diff_coeff, diff_time)\n",
    "        \n",
    "        distance = get_distance_3d(coords1[-1],coords2[-1])\n",
    "        \n",
    "        if distance < int_length:\n",
    "            \n",
    "            interaction_count += 1\n",
    "            int_coords_temp = np.append(coords1[-1],coords2[-1])\n",
    "            repair = interaction_process(interaction_p)\n",
    "            \n",
    "            if interaction_count == 1:\n",
    "                interaction_times = np.array([time1,time2])\n",
    "                interaction_times = np.reshape(interaction_times,(1,len(interaction_times)))\n",
    "                interaction_coords = np.reshape(int_coords_temp,(1,len(int_coords_temp)))\n",
    "                int_count_arr = np.array([interaction_count])\n",
    "                repair_arr = np.array([repair])\n",
    "                \n",
    "            else: \n",
    "                interaction_times = np.vstack((interaction_times,np.array([time1,time2])))\n",
    "                interaction_coords = np.vstack((interaction_coords,int_coords_temp))\n",
    "                int_count_arr = np.append(int_count_arr,interaction_count)\n",
    "                repair_arr = np.append(repair_arr,repair)\n",
    "\n",
    "\n",
    "    data1 = {'t': times1, 'x': coords1[:,0], 'y': coords1[:,1], 'z': coords1[:,2]}\n",
    "    df1 = pd.DataFrame(data1)\n",
    "    data2 = {'t': times2, 'x': coords2[:,0], 'y': coords2[:,1], 'z': coords2[:,2]}\n",
    "    df2 = pd.DataFrame(data2)\n",
    "    \n",
    "    \n",
    "    \"\"\"\n",
    "    if plot ==1:              \n",
    "        %matplotlib notebook\n",
    "        fig = plt.figure()\n",
    "        ax = plt.axes(projection ='3d')\n",
    "        ax.plot3D(df1['x'], df1['y'], df1['z'])\n",
    "        ax.plot3D(df2['x'], df2['y'], df2['z'])\n",
    "        ax.scatter(df1['x'].iloc[0], df1['y'].iloc[0], df1['z'].iloc[0],marker='x',c='k')\n",
    "        ax.scatter(df2['x'].iloc[0], df2['y'].iloc[0], df2['z'].iloc[0],marker='x',c='k')\n",
    "        \n",
    "        if interaction_count > 1:\n",
    "            ax.scatter(interaction_coords[:-1,0],interaction_coords[:-1,1],\n",
    "                       interaction_coords[:-1,2],c='k')\n",
    "            if repair == 1:\n",
    "                ax.scatter(interaction_coords[-1,0],interaction_coords[-1,1],\n",
    "                       interaction_coords[-1,2],c='r')\n",
    "                \n",
    "        elif interaction_count == 1:\n",
    "            ax.scatter(interaction_coords[0],interaction_coords[1],\n",
    "                       interaction_coords[2],c='k')\n",
    "            if repair == 1:\n",
    "                ax.scatter(interaction_coords[-0],interaction_coords[1],\n",
    "                       interaction_coords[2],c='r')\n",
    "                       \n",
    "    \"\"\"\n",
    "        \n",
    "    return interaction_times,interaction_coords,int_count_arr,repair_arr\n",
    "            "
   ]
  },
  {
   "cell_type": "code",
   "execution_count": 139,
   "metadata": {
    "scrolled": false
   },
   "outputs": [],
   "source": [
    "min_dist  = 1e7\n",
    "ts,xyzs,counts,repair = ctrw_3d_interaction([(0,0,0),(0,0,min_dist*1)], 2.8e11, 1, 1e16, 1e9, 0.5,\n",
    "                                   min_dist,interaction_p = 0.9,plot=1)"
   ]
  },
  {
   "cell_type": "code",
   "execution_count": 71,
   "metadata": {},
   "outputs": [],
   "source": [
    "def ctrw_3d_interaction_mc(nsamples,initial_pos,diff_coeff,diff_time,run_time,min_wait_time,anom_diff_exp,\n",
    "                        int_length,interaction_p=0.5,plot=0):\n",
    "    \n",
    "    j = 0\n",
    "    \n",
    "    for i in np.arange(nsamples):\n",
    "        \n",
    "        ts_temp,xyzs_temp,counts_temp,repair_temp = ctrw_3d_interaction(initial_pos, diff_coeff, diff_time, run_time, min_wait_time, 0.5,\n",
    "                                                    int_length,interaction_p = 0.9,plot=1)\n",
    "     \n",
    "        repair_temp = np.reshape(repair_temp,(len(repair_temp),1))\n",
    "        counts_temp = np.reshape(counts_temp,(np.size(counts_temp),1))\n",
    "        \n",
    "        if counts_temp[0] != 0:\n",
    "        \n",
    "            mc_sample = np.full((len(counts_temp),1),i)\n",
    "\n",
    "            data_temp = np.hstack((mc_sample,ts_temp,xyzs_temp,counts_temp,repair_temp))\n",
    "\n",
    "            if j == 0:\n",
    "\n",
    "                repair_data = data_temp\n",
    "\n",
    "            else: \n",
    "\n",
    "                repair_data = np.vstack((repair_data,data_temp))\n",
    "                \n",
    "            j+=1\n",
    "                \n",
    "    print(np.shape(repair_data))\n",
    "    repair_df = pd.DataFrame(data=repair_data, columns=['mc_step', 't1', 't2','x1','y1','z1',\n",
    "                                                        'x2','y2','z2','interaction','repair'])\n",
    "    \n",
    "            \n",
    "    return repair_df\n"
   ]
  },
  {
   "cell_type": "code",
   "execution_count": 72,
   "metadata": {
    "scrolled": false
   },
   "outputs": [
    {
     "name": "stdout",
     "output_type": "stream",
     "text": [
      "(7409, 11)\n"
     ]
    }
   ],
   "source": [
    "repair_data = ctrw_3d_interaction_mc(1000,[(0,0,0),(0,0,min_dist*1)], 2.8e11, 1, 1e16, 1e9, 0.5,\n",
    "                                       min_dist,interaction_p = 0.9,plot=0)"
   ]
  },
  {
   "cell_type": "code",
   "execution_count": 67,
   "metadata": {},
   "outputs": [
    {
     "data": {
      "text/plain": [
       "(array([590., 331., 178., 130., 123.,  99.,  85., 120.,  87.,  82.,  52.,\n",
       "         56.,  54.,  35.,  38.,  45.,  40.,  34.,  37.,  35.,  47.,  43.,\n",
       "         35.,  38.,  32.,  33.,  39.,  27.,  26.,  22.,  24.,  19.,  22.,\n",
       "         13.,  22.,  23.,  27.,   9.,  11.,  14.,  15.,  13.,  19.,  22.,\n",
       "         21.,  14.,   9.,  12.,  25.,  28.,  23.,  15.,  23.,  15.,  16.,\n",
       "         20.,  19.,  16.,  13.,  10.,  17.,   5.,  10.,  10.,   6.,   5.,\n",
       "         15.,   4.,   8.,   5.,   9.,   3.,   2.,   6.,   6.,   7.,   5.,\n",
       "          5.,   7.,   3.,   4.,   7.,  10.,  13.,   4.,  12.,   6.,   9.,\n",
       "          1.,   8.,  11.,   5.,   2.,   2.,   5.,   2.,   4.,   4.,   4.,\n",
       "          8.]),\n",
       " array([0.0e+00, 1.0e+10, 2.0e+10, 3.0e+10, 4.0e+10, 5.0e+10, 6.0e+10,\n",
       "        7.0e+10, 8.0e+10, 9.0e+10, 1.0e+11, 1.1e+11, 1.2e+11, 1.3e+11,\n",
       "        1.4e+11, 1.5e+11, 1.6e+11, 1.7e+11, 1.8e+11, 1.9e+11, 2.0e+11,\n",
       "        2.1e+11, 2.2e+11, 2.3e+11, 2.4e+11, 2.5e+11, 2.6e+11, 2.7e+11,\n",
       "        2.8e+11, 2.9e+11, 3.0e+11, 3.1e+11, 3.2e+11, 3.3e+11, 3.4e+11,\n",
       "        3.5e+11, 3.6e+11, 3.7e+11, 3.8e+11, 3.9e+11, 4.0e+11, 4.1e+11,\n",
       "        4.2e+11, 4.3e+11, 4.4e+11, 4.5e+11, 4.6e+11, 4.7e+11, 4.8e+11,\n",
       "        4.9e+11, 5.0e+11, 5.1e+11, 5.2e+11, 5.3e+11, 5.4e+11, 5.5e+11,\n",
       "        5.6e+11, 5.7e+11, 5.8e+11, 5.9e+11, 6.0e+11, 6.1e+11, 6.2e+11,\n",
       "        6.3e+11, 6.4e+11, 6.5e+11, 6.6e+11, 6.7e+11, 6.8e+11, 6.9e+11,\n",
       "        7.0e+11, 7.1e+11, 7.2e+11, 7.3e+11, 7.4e+11, 7.5e+11, 7.6e+11,\n",
       "        7.7e+11, 7.8e+11, 7.9e+11, 8.0e+11, 8.1e+11, 8.2e+11, 8.3e+11,\n",
       "        8.4e+11, 8.5e+11, 8.6e+11, 8.7e+11, 8.8e+11, 8.9e+11, 9.0e+11,\n",
       "        9.1e+11, 9.2e+11, 9.3e+11, 9.4e+11, 9.5e+11, 9.6e+11, 9.7e+11,\n",
       "        9.8e+11, 9.9e+11, 1.0e+12]),\n",
       " <BarContainer object of 100 artists>)"
      ]
     },
     "execution_count": 67,
     "metadata": {},
     "output_type": "execute_result"
    },
    {
     "data": {
      "image/png": "[encoded data removed]",
      "text/plain": [
       "<Figure size 432x288 with 1 Axes>"
      ]
     },
     "metadata": {
      "needs_background": "light"
     },
     "output_type": "display_data"
    }
   ],
   "source": [
    "plt.hist(repair_data['t1'], bins=100, range=(0, 1e12))"
   ]
  },
  {
   "cell_type": "code",
   "execution_count": 146,
   "metadata": {},
   "outputs": [],
   "source": [
    "def unit_vector_single():\n",
    "    #Streamlined function to return only a single vector, distributed in the same manner as above.\n",
    "    #Plotting of the above vectors in large quantity attest the validity of using this function.\n",
    "    \n",
    "    random_value_1 = np.random.uniform(0,1)\n",
    "    random_value_2 = np.random.uniform(0,1)\n",
    "    \n",
    "    #ICDFs produced as before\n",
    "    inclination = np.arccos(1-2*random_value_1)\n",
    "    azimuth = 2*(np.pi)*random_value_2\n",
    "    \n",
    "    #cartesian conversion\n",
    "    x = np.cos(azimuth)*np.sin(inclination)\n",
    "    y = np.sin(azimuth)*np.sin(inclination)\n",
    "    z = np.cos(inclination)\n",
    "    \n",
    "    return np.array([x,y,z])\n",
    "\n",
    "def ctrw_3d_self_interaction(initial_pos,diff_coeff,diff_time,run_time,min_wait_time,anom_diff_exp,\n",
    "                        int_length,strand_length,interaction_p=0.5,plot=0):\n",
    "    \"\"\"\n",
    "    \"\"\"\n",
    "    repair = 0 \n",
    "    time1 = 0\n",
    "    time2 = 0 \n",
    "    \n",
    "    x1, y1, z1 = initial_pos\n",
    "    \n",
    "    x2, y2, z2 = initial_pos + strand_length*unit_vector_single()\n",
    "    \n",
    "    print(x2,y2,z2)\n",
    "    \n",
    "    times1 = np.array([time1])\n",
    "    times2 = np.array([time2])\n",
    "    \n",
    "    coords1 = np.array([x1, y1, z1])\n",
    "    coords2 = np.array([x2, y2, z2])\n",
    "    \n",
    "    interaction_coords = np.array([0,0,0,0,0,0])\n",
    "    interaction_times = np.array([0,0])\n",
    "    interaction_count = 0\n",
    "    int_count_arr = np.array(interaction_count)\n",
    "    repair_arr = np.array([repair])\n",
    "\n",
    "    while (time1 < run_time or time2 < run_time) and repair ==0:\n",
    "        \n",
    "        waiting_time1 = get_waiting_time(min_wait_time, anom_diff_exp)\n",
    "        waiting_time2 = get_waiting_time(min_wait_time, anom_diff_exp)\n",
    "        \n",
    "        time1 += waiting_time1  # update current time\n",
    "        times1 = np.append(times1, time1)\n",
    "        \n",
    "        time2 += waiting_time2  # update current time\n",
    "        times2 = np.append(times2, time2)\n",
    "        \n",
    "        coords1_temp = gauss_step_3d(coords1,diff_coeff, diff_time)\n",
    "        coords2_temp = gauss_step_3d(coords2,diff_coeff, diff_time)\n",
    "        \n",
    "        coords_temp = np.array([coords1_temp,coords2_temp])\n",
    "        \n",
    "        distance = get_distance_3d(coords1_temp[-1],coords2_temp[-1])\n",
    "        \n",
    "        coords_tt = coords_temp\n",
    "        \n",
    "\n",
    "        while (distance > strand_length):\n",
    "            \n",
    "            coords_tt = coords_temp\n",
    "               \n",
    "            i = np.random.randint(0,1)\n",
    "            \n",
    "            print(coords_tt[i])\n",
    "            print(coords_temp[i])\n",
    "               \n",
    "            coords_tt[i] = gauss_step_3d(coords_temp[i],diff_coeff, diff_time)\n",
    "            \n",
    "            print(coords_tt[i])\n",
    "            print(coords_temp[i])\n",
    "            \n",
    "            distance = get_distance_3d(coords_tt[0][-1],coords_tt[1][-1])\n",
    "            \n",
    "        coords1,coords2 = coords_tt\n",
    "\n",
    "        if distance < int_length:\n",
    "            \n",
    "            interaction_count += 1\n",
    "            int_coords_temp = np.append(coords1[-1],coords2[-1])\n",
    "            repair = interaction_process(interaction_p)\n",
    "            \n",
    "            if interaction_count == 1:\n",
    "                interaction_times = np.array([time1,time2])\n",
    "                interaction_times = np.reshape(interaction_times,(1,len(interaction_times)))\n",
    "                interaction_coords = np.reshape(int_coords_temp,(1,len(int_coords_temp)))\n",
    "                int_count_arr = np.array([interaction_count])\n",
    "                repair_arr = np.array([repair])\n",
    "                \n",
    "            else: \n",
    "                interaction_times = np.vstack((interaction_times,np.array([time1,time2])))\n",
    "                interaction_coords = np.vstack((interaction_coords,int_coords_temp))\n",
    "                int_count_arr = np.append(int_count_arr,interaction_count)\n",
    "                repair_arr = np.append(repair_arr,repair)\n",
    "\n",
    "\n",
    "    data1 = {'t': times1, 'x': coords1[:,0], 'y': coords1[:,1], 'z': coords1[:,2]}\n",
    "    df1 = pd.DataFrame(data1)\n",
    "    data2 = {'t': times2, 'x': coords2[:,0], 'y': coords2[:,1], 'z': coords2[:,2]}\n",
    "    df2 = pd.DataFrame(data2)\n",
    "    \n",
    "    \n",
    "    \"\"\"\n",
    "    if plot ==1:              \n",
    "        %matplotlib notebook\n",
    "        fig = plt.figure()\n",
    "        ax = plt.axes(projection ='3d')\n",
    "        ax.plot3D(df1['x'], df1['y'], df1['z'])\n",
    "        ax.plot3D(df2['x'], df2['y'], df2['z'])\n",
    "        ax.scatter(df1['x'].iloc[0], df1['y'].iloc[0], df1['z'].iloc[0],marker='x',c='k')\n",
    "        ax.scatter(df2['x'].iloc[0], df2['y'].iloc[0], df2['z'].iloc[0],marker='x',c='k')\n",
    "        \n",
    "        if interaction_count > 1:\n",
    "            ax.scatter(interaction_coords[:-1,0],interaction_coords[:-1,1],\n",
    "                       interaction_coords[:-1,2],c='k')\n",
    "            if repair == 1:\n",
    "                ax.scatter(interaction_coords[-1,0],interaction_coords[-1,1],\n",
    "                       interaction_coords[-1,2],c='r')\n",
    "                \n",
    "        elif interaction_count == 1:\n",
    "            ax.scatter(interaction_coords[0],interaction_coords[1],\n",
    "                       interaction_coords[2],c='k')\n",
    "            if repair == 1:\n",
    "                ax.scatter(interaction_coords[-0],interaction_coords[1],\n",
    "                       interaction_coords[2],c='r')\n",
    "                       \n",
    "    \"\"\"\n",
    "        \n",
    "    return interaction_times,interaction_coords,int_count_arr,repair_arr"
   ]
  },
  {
   "cell_type": "code",
   "execution_count": 147,
   "metadata": {},
   "outputs": [
    {
     "name": "stdout",
     "output_type": "stream",
     "text": [
      "-852645214.1667045 449742807.3230565 265946509.6965749\n",
      "[[      0.               0.               0.        ]\n",
      " [ -21277.06367123 -448781.21909989  346000.14477612]\n",
      " [ 815458.78559868 -241817.31072224 -876681.1516444 ]]\n",
      "[[      0.               0.               0.        ]\n",
      " [ -21277.06367123 -448781.21909989  346000.14477612]\n",
      " [ 815458.78559868 -241817.31072224 -876681.1516444 ]]\n"
     ]
    },
    {
     "ename": "ValueError",
     "evalue": "could not broadcast input array from shape (4,3) into shape (3,3)",
     "output_type": "error",
     "traceback": [
      "\u001b[1;31m---------------------------------------------------------------------------\u001b[0m",
      "\u001b[1;31mValueError\u001b[0m                                Traceback (most recent call last)",
      "\u001b[1;32m<ipython-input-147-42c020e9d963>\u001b[0m in \u001b[0;36m<module>\u001b[1;34m\u001b[0m\n\u001b[1;32m----> 1\u001b[1;33m \u001b[0mctrw_3d_self_interaction\u001b[0m\u001b[1;33m(\u001b[0m\u001b[1;33m(\u001b[0m\u001b[1;36m0\u001b[0m\u001b[1;33m,\u001b[0m\u001b[1;36m0\u001b[0m\u001b[1;33m,\u001b[0m\u001b[1;36m0\u001b[0m\u001b[1;33m)\u001b[0m\u001b[1;33m,\u001b[0m \u001b[1;36m2.8e11\u001b[0m\u001b[1;33m,\u001b[0m \u001b[1;36m1\u001b[0m\u001b[1;33m,\u001b[0m \u001b[1;36m1e16\u001b[0m\u001b[1;33m,\u001b[0m \u001b[1;36m1e9\u001b[0m\u001b[1;33m,\u001b[0m \u001b[1;36m0.5\u001b[0m\u001b[1;33m,\u001b[0m \u001b[0mmin_dist\u001b[0m\u001b[1;33m,\u001b[0m\u001b[0mmin_dist\u001b[0m\u001b[1;33m*\u001b[0m\u001b[1;36m100\u001b[0m\u001b[1;33m,\u001b[0m\u001b[0minteraction_p\u001b[0m \u001b[1;33m=\u001b[0m \u001b[1;36m0.9\u001b[0m\u001b[1;33m,\u001b[0m\u001b[0mplot\u001b[0m\u001b[1;33m=\u001b[0m\u001b[1;36m0\u001b[0m\u001b[1;33m)\u001b[0m\u001b[1;33m\u001b[0m\u001b[1;33m\u001b[0m\u001b[0m\n\u001b[0m",
      "\u001b[1;32m<ipython-input-146-4adb1f74cfd9>\u001b[0m in \u001b[0;36mctrw_3d_self_interaction\u001b[1;34m(initial_pos, diff_coeff, diff_time, run_time, min_wait_time, anom_diff_exp, int_length, strand_length, interaction_p, plot)\u001b[0m\n\u001b[0;32m     73\u001b[0m             \u001b[0mprint\u001b[0m\u001b[1;33m(\u001b[0m\u001b[0mcoords_temp\u001b[0m\u001b[1;33m[\u001b[0m\u001b[0mi\u001b[0m\u001b[1;33m]\u001b[0m\u001b[1;33m)\u001b[0m\u001b[1;33m\u001b[0m\u001b[1;33m\u001b[0m\u001b[0m\n\u001b[0;32m     74\u001b[0m \u001b[1;33m\u001b[0m\u001b[0m\n\u001b[1;32m---> 75\u001b[1;33m             \u001b[0mcoords_tt\u001b[0m\u001b[1;33m[\u001b[0m\u001b[0mi\u001b[0m\u001b[1;33m]\u001b[0m \u001b[1;33m=\u001b[0m \u001b[0mgauss_step_3d\u001b[0m\u001b[1;33m(\u001b[0m\u001b[0mcoords_temp\u001b[0m\u001b[1;33m[\u001b[0m\u001b[0mi\u001b[0m\u001b[1;33m]\u001b[0m\u001b[1;33m,\u001b[0m\u001b[0mdiff_coeff\u001b[0m\u001b[1;33m,\u001b[0m \u001b[0mdiff_time\u001b[0m\u001b[1;33m)\u001b[0m\u001b[1;33m\u001b[0m\u001b[1;33m\u001b[0m\u001b[0m\n\u001b[0m\u001b[0;32m     76\u001b[0m \u001b[1;33m\u001b[0m\u001b[0m\n\u001b[0;32m     77\u001b[0m             \u001b[0mprint\u001b[0m\u001b[1;33m(\u001b[0m\u001b[0mcoords_tt\u001b[0m\u001b[1;33m[\u001b[0m\u001b[0mi\u001b[0m\u001b[1;33m]\u001b[0m\u001b[1;33m)\u001b[0m\u001b[1;33m\u001b[0m\u001b[1;33m\u001b[0m\u001b[0m\n",
      "\u001b[1;31mValueError\u001b[0m: could not broadcast input array from shape (4,3) into shape (3,3)"
     ]
    }
   ],
   "source": [
    "ctrw_3d_self_interaction((0,0,0), 2.8e11, 1, 1e16, 1e9, 0.5, min_dist,min_dist*100,interaction_p = 0.9,plot=0)"
   ]
  },
  {
   "cell_type": "code",
   "execution_count": 104,
   "metadata": {},
   "outputs": [],
   "source": [
    "arr = np.array([[1,2,3]])"
   ]
  },
  {
   "cell_type": "code",
   "execution_count": 105,
   "metadata": {},
   "outputs": [
    {
     "data": {
      "text/plain": [
       "array([1, 2, 3])"
      ]
     },
     "execution_count": 105,
     "metadata": {},
     "output_type": "execute_result"
    }
   ],
   "source": [
    "arr[-1]"
   ]
  },
  {
   "cell_type": "code",
   "execution_count": null,
   "metadata": {},
   "outputs": [],
   "source": []
  }
 ],
 "metadata": {
  "kernelspec": {
   "display_name": "Python 3",
   "language": "python",
   "name": "python3"
  },
  "language_info": {
   "codemirror_mode": {
    "name": "ipython",
    "version": 3
   },
   "file_extension": ".py",
   "mimetype": "text/x-python",
   "name": "python",
   "nbconvert_exporter": "python",
   "pygments_lexer": "ipython3",
   "version": "3.8.8"
  }
 },
 "nbformat": 4,
 "nbformat_minor": 4
}
